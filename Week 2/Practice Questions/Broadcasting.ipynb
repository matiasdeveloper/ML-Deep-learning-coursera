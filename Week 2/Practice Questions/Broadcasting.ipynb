{
 "cells": [
  {
   "cell_type": "code",
   "execution_count": 6,
   "metadata": {},
   "outputs": [
    {
     "name": "stdout",
     "output_type": "stream",
     "text": [
      "[[ 56.    0.    1.2   1.8]\n",
      " [  1.2 104.   52.    8. ]\n",
      " [  1.8 135.   99.    0.9]]\n"
     ]
    }
   ],
   "source": [
    "import numpy as np\n",
    "\n",
    "# Broadcasting example\n",
    "A = np.array([[56.0,0.0 ,1.2, 1.8], \n",
    "             [1.2, 104.0, 52.0, 8.0],\n",
    "            [1.8, 135.0, 99.0, 0.9] ])\n",
    "\n",
    "print(A)"
   ]
  },
  {
   "cell_type": "code",
   "execution_count": 7,
   "metadata": {},
   "outputs": [
    {
     "name": "stdout",
     "output_type": "stream",
     "text": [
      "[ 59.  239.  152.2  10.7]\n"
     ]
    }
   ],
   "source": [
    "cal = A.sum(axis=0)\n",
    "print(cal)"
   ]
  },
  {
   "cell_type": "code",
   "execution_count": 10,
   "metadata": {},
   "outputs": [
    {
     "name": "stdout",
     "output_type": "stream",
     "text": [
      "[[94.91525424  0.          0.78843627 16.82242991]\n",
      " [ 2.03389831 43.51464435 34.16557162 74.76635514]\n",
      " [ 3.05084746 56.48535565 65.04599212  8.41121495]]\n"
     ]
    }
   ],
   "source": [
    "percentage = 100 * A/cal.reshape(1,4)\n",
    "print(percentage)"
   ]
  },
  {
   "cell_type": "code",
   "execution_count": 19,
   "metadata": {},
   "outputs": [
    {
     "name": "stdout",
     "output_type": "stream",
     "text": [
      "Array L Traspose + 100\n",
      "[[101]\n",
      " [102]\n",
      " [103]]\n",
      "Array L + 100\n",
      "[101 102 103]\n",
      "Matrix 3x2 + 2x3 = 3x3\n",
      "[[2 1 0]\n",
      " [1 1 0]\n",
      " [1 0 0]]\n",
      "Matrix 2x3 + 3x2 = 2x2\n",
      "[[3 2]\n",
      " [2 2]]\n"
     ]
    }
   ],
   "source": [
    "# Example and General Principle\n",
    "\n",
    "print(\"Array L Traspose + 100\")\n",
    "M = np.array([1,2,3])\n",
    "print(X.T + 100)\n",
    "\n",
    "print(\"Array L + 100\")\n",
    "L = np.array([1,2,3])\n",
    "print(L + 100)\n",
    "\n",
    "# Matrix 3x2 + Matrix 2x3 = 3x3\n",
    "X1 = np.array([[1,1], [1,0], [0,1]])\n",
    "X2 = np.array([[1,1,0], [1,0,0]])\n",
    "\n",
    "print(\"Matrix 3x2 + 2x3 = 3x3\")\n",
    "print(np.dot(X1,X2))\n",
    "# Matrix 2x3 + Matrix 3x2 = 2x2\n",
    "X1 = np.array([[1,1,1], [1,0,1]])\n",
    "X2 = np.array([[1,1], [1,0], [1,1]])\n",
    "\n",
    "print(\"Matrix 2x3 + 3x2 = 2x2\")\n",
    "print(np.dot(X1,X2))"
   ]
  },
  {
   "cell_type": "code",
   "execution_count": null,
   "metadata": {},
   "outputs": [],
   "source": []
  },
  {
   "cell_type": "code",
   "execution_count": null,
   "metadata": {},
   "outputs": [],
   "source": []
  }
 ],
 "metadata": {
  "kernelspec": {
   "display_name": "Python 3",
   "language": "python",
   "name": "python3"
  },
  "language_info": {
   "codemirror_mode": {
    "name": "ipython",
    "version": 3
   },
   "file_extension": ".py",
   "mimetype": "text/x-python",
   "name": "python",
   "nbconvert_exporter": "python",
   "pygments_lexer": "ipython3",
   "version": "3.7.6"
  }
 },
 "nbformat": 4,
 "nbformat_minor": 4
}
