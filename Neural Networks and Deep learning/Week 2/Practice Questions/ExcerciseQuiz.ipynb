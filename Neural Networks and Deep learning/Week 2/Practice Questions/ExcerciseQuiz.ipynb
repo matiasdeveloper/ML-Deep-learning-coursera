{
 "cells": [
  {
   "cell_type": "code",
   "execution_count": 23,
   "metadata": {},
   "outputs": [],
   "source": [
    "import numpy as np"
   ]
  },
  {
   "cell_type": "code",
   "execution_count": 24,
   "metadata": {},
   "outputs": [
    {
     "name": "stdout",
     "output_type": "stream",
     "text": [
      "(32, 32, 3)\n"
     ]
    }
   ],
   "source": [
    "img = np.random.randn(32,32, 3)\n",
    "print(img.shape)"
   ]
  },
  {
   "cell_type": "code",
   "execution_count": 62,
   "metadata": {},
   "outputs": [
    {
     "name": "stdout",
     "output_type": "stream",
     "text": [
      "(3072, 1)\n"
     ]
    }
   ],
   "source": [
    "x = img.reshape((32*32*3,1))\n",
    "\n",
    "#x = img.reshape((32*32,3))\n",
    "\n",
    "#x = img.reshape((3,32*32))\n",
    "\n",
    "#x = img.reshape((1,32*32,*3))\n",
    "\n",
    "print(x.shape)"
   ]
  },
  {
   "cell_type": "code",
   "execution_count": 26,
   "metadata": {},
   "outputs": [
    {
     "name": "stdout",
     "output_type": "stream",
     "text": [
      "(2, 3)\n"
     ]
    }
   ],
   "source": [
    "a = np.random.randn(2, 3) # a.shape = (2, 3)\n",
    "b = np.random.randn(2, 1) # b.shape = (2, 1)\n",
    "c = a + b\n",
    "print(c.shape)"
   ]
  },
  {
   "cell_type": "code",
   "execution_count": 66,
   "metadata": {},
   "outputs": [
    {
     "name": "stdout",
     "output_type": "stream",
     "text": [
      "(4, 2)\n"
     ]
    }
   ],
   "source": [
    "a1 = np.random.randn(4, 3) # a.shape = (4, 3)\n",
    "b1 = np.random.randn(3, 2) # b.shape = (3, 2)\n",
    "c1 = np.dot(a1,b1)\n",
    "print(c1.shape)"
   ]
  },
  {
   "cell_type": "code",
   "execution_count": 27,
   "metadata": {},
   "outputs": [
    {
     "name": "stdout",
     "output_type": "stream",
     "text": [
      "(12288, 45)\n"
     ]
    }
   ],
   "source": [
    "a2 = np.random.randn(12288, 150) # a.shape = (12288, 150)\n",
    "b2 = np.random.randn(150, 45) # b.shape = (150, 45)\n",
    "c2 = np.dot(a2,b2)\n",
    "print(c2.shape)"
   ]
  },
  {
   "cell_type": "code",
   "execution_count": 53,
   "metadata": {},
   "outputs": [
    {
     "name": "stdout",
     "output_type": "stream",
     "text": [
      "[[ 0.37644264 -0.19867407 -1.64708793  1.68232701]\n",
      " [ 0.24413248 -0.95212495  0.51450329  0.05609586]\n",
      " [ 1.35094712 -0.72620129 -1.64380741 -1.06196276]]\n",
      "(3, 4)\n",
      "[[-0.61740569  0.1195938  -1.64534127  2.04496711]]\n",
      "(4, 1)\n",
      "[[-0.24096305 -0.07908027 -3.2924292   3.72729412]\n",
      " [-0.37327321 -0.83253115 -1.13083798  2.10106297]\n",
      " [ 0.73354143 -0.60660748 -3.28914868  0.98300434]]\n"
     ]
    }
   ],
   "source": [
    "a3 = np.random.randn(3,4)\n",
    "b3 = np.random.randn(4,1)\n",
    "c3 = np.zeros((3,1))\n",
    "    \n",
    "# How do you vectorized this?\n",
    "print(a3)\n",
    "print(a3.shape)\n",
    "print(b3.T)\n",
    "print(b3.shape)\n",
    "\n",
    "c3 = a3 + b3.T\n",
    "print(c3)"
   ]
  },
  {
   "cell_type": "code",
   "execution_count": 54,
   "metadata": {},
   "outputs": [
    {
     "name": "stdout",
     "output_type": "stream",
     "text": [
      "(3, 1)\n"
     ]
    }
   ],
   "source": [
    "a4 = np.random.randn(3, 3)\n",
    "b4 = np.random.randn(3, 1)\n",
    "c4 = np.dot(a4,b4)\n",
    "print(c4.shape)"
   ]
  },
  {
   "cell_type": "code",
   "execution_count": null,
   "metadata": {},
   "outputs": [],
   "source": [
    "J = (a*b) + (a*c) - (b+c)"
   ]
  }
 ],
 "metadata": {
  "kernelspec": {
   "display_name": "Python 3",
   "language": "python",
   "name": "python3"
  },
  "language_info": {
   "codemirror_mode": {
    "name": "ipython",
    "version": 3
   },
   "file_extension": ".py",
   "mimetype": "text/x-python",
   "name": "python",
   "nbconvert_exporter": "python",
   "pygments_lexer": "ipython3",
   "version": "3.7.6"
  }
 },
 "nbformat": 4,
 "nbformat_minor": 4
}
