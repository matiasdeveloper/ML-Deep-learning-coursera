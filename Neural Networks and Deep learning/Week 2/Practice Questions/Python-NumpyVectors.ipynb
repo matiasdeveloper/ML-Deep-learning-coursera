{
 "cells": [
  {
   "cell_type": "code",
   "execution_count": 6,
   "metadata": {},
   "outputs": [
    {
     "name": "stdout",
     "output_type": "stream",
     "text": [
      "[-0.06086799  0.85136668 -0.86701761 -0.05366049  0.55852938]\n",
      "(5,)\n",
      "[-0.06086799  0.85136668 -0.86701761 -0.05366049  0.55852938]\n",
      "1.7950841802761044\n"
     ]
    }
   ],
   "source": [
    "import numpy as np\n",
    "\n",
    "# Python - numpy vectors\n",
    "# This form is not ituitive\n",
    "a = np.random.randn(5)\n",
    "print(a)\n",
    "print(a.shape)\n",
    "# For this for example the traspose for (5,)\n",
    "print(a.T)\n",
    "# For this for example the dot product of a and a.T\n",
    "print(np.dot(a,a.T))"
   ]
  },
  {
   "cell_type": "code",
   "execution_count": 7,
   "metadata": {},
   "outputs": [
    {
     "name": "stdout",
     "output_type": "stream",
     "text": [
      "1.7950841802761044\n"
     ]
    }
   ],
   "source": [
    "# Is more simple\n",
    "print(np.dot(a,a.T))"
   ]
  },
  {
   "cell_type": "code",
   "execution_count": 8,
   "metadata": {},
   "outputs": [
    {
     "name": "stdout",
     "output_type": "stream",
     "text": [
      "[[ 0.36236979]\n",
      " [-1.01447892]\n",
      " [-0.92342011]\n",
      " [ 1.14115616]\n",
      " [-0.84333972]]\n",
      "(5, 1)\n",
      "[[ 0.36236979 -1.01447892 -0.92342011  1.14115616 -0.84333972]]\n"
     ]
    }
   ],
   "source": [
    "# Whenever this is the better form\n",
    "a = np.random.randn(5,1)\n",
    "print(a)\n",
    "print(a.shape)\n",
    "# Is more intuitive\n",
    "print(a.T)"
   ]
  },
  {
   "cell_type": "code",
   "execution_count": 9,
   "metadata": {},
   "outputs": [
    {
     "name": "stdout",
     "output_type": "stream",
     "text": [
      "[[ 0.13131187 -0.36761652 -0.33461955  0.41352052 -0.30560084]\n",
      " [-0.36761652  1.02916748  0.93679024 -1.15767887  0.85555037]\n",
      " [-0.33461955  0.93679024  0.85270471 -1.05376655  0.77875686]\n",
      " [ 0.41352052 -1.15767887 -1.05376655  1.30223737 -0.96238231]\n",
      " [-0.30560084  0.85555037  0.77875686 -0.96238231  0.71122188]]\n"
     ]
    }
   ],
   "source": [
    "# Is more simple\n",
    "print(np.dot(a,a.T))"
   ]
  },
  {
   "cell_type": "code",
   "execution_count": null,
   "metadata": {},
   "outputs": [],
   "source": []
  }
 ],
 "metadata": {
  "kernelspec": {
   "display_name": "Python 3",
   "language": "python",
   "name": "python3"
  },
  "language_info": {
   "codemirror_mode": {
    "name": "ipython",
    "version": 3
   },
   "file_extension": ".py",
   "mimetype": "text/x-python",
   "name": "python",
   "nbconvert_exporter": "python",
   "pygments_lexer": "ipython3",
   "version": "3.7.6"
  }
 },
 "nbformat": 4,
 "nbformat_minor": 4
}
